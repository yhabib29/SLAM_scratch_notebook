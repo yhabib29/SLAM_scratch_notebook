{
 "cells": [
  {
   "cell_type": "markdown",
   "metadata": {},
   "source": [
    "**Monte Carlo**\n",
    "\n",
    "The method Carlo method is used to estimate a value by using the empirical mean.\n",
    "\n",
    "Let's say we want to estimate this integral:\n",
    "$$I = \\int_{a}^{b} g(x) dx = \\int_{a}^{b} e^{4x} dx$$\n",
    "\n",
    "We can use a known probability $X$ with mass function $f$ to estimate $I$:\n",
    "$$\\hat{I} = \\int_{a}^{b} \\frac{e^{4x}}{f(x)} f(x) dx = E\\left(\\frac{e^{4X}}{f(X)}\\right)$$\n",
    "\n",
    "\n",
    "$X_1$, $X_2$, ... $X_N$ follow the same probability $X$ and are IID.\n",
    "\n",
    "Thus, giving the law of large numbers, the empirical mean converge almost surely when $N\\to\\infty$:\n",
    "$$E\\left(\\frac{e^{4X}}{f(X)}\\right) = \\frac{1}{N} \\sum_{i=1}^{N} \\frac{e^{4X_i}}{f(X_i)} \\xrightarrow[A.S.]{n\\to\\infty} \\int_{a}^{b} e^{4x} dx$$"
   ]
  },
  {
   "cell_type": "code",
   "execution_count": 2,
   "metadata": {},
   "outputs": [],
   "source": [
    "import math\n",
    "import numpy as np\n",
    "from random import uniform\n",
    "import matplotlib.pyplot as plt\n",
    "\n",
    "import sympy\n",
    "from sympy.interactive import printing\n",
    "printing.init_printing(use_latex=\"mathjax\")"
   ]
  },
  {
   "cell_type": "code",
   "execution_count": 3,
   "metadata": {},
   "outputs": [
    {
     "name": "stdout",
     "output_type": "stream",
     "text": [
      "Computed value:  40688.4478547510\n",
      "Monte-Carlo = 42106.12914949469    Expected value = 40688.44785475098    Error = -1417.6812947437138    Variance = 8850349992.365507\n"
     ]
    },
    {
     "data": {
      "image/png": "[encoded data removed]",
      "text/plain": [
       "<Figure size 432x288 with 1 Axes>"
      ]
     },
     "metadata": {
      "needs_background": "light"
     },
     "output_type": "display_data"
    }
   ],
   "source": [
    "# Parameters\n",
    "N = 1000\n",
    "a = 0\n",
    "b = 3\n",
    "\n",
    "# Expected value\n",
    "I = (math.exp(4.0 * b) - math.exp(4.0 * a)) / 4.0\n",
    "\n",
    "# Computed value\n",
    "t = sympy.Symbol(\"t\")\n",
    "print(\"Computed value: \", sympy.integrate(sympy.exp(4.0 * t), (t, a, b)))\n",
    "\n",
    "# Generate Uniform distribution X\n",
    "X = [np.random.uniform(a, b, 1) for _ in range(N)]\n",
    "Y = [(b - a) * math.exp(4.0 * x) for x in X]\n",
    "\n",
    "# Empirical mean\n",
    "Im = np.sum(Y) / float(N)\n",
    "\n",
    "# Variance\n",
    "v = 0.0\n",
    "for y in Y:\n",
    "    v += (y - Im)**2\n",
    "v = (v / float(N))**0.5\n",
    "\n",
    "print(\"Monte-Carlo = {}    Expected value = {}    Error = {}    Variance = {}\".format(Im, I, I-Im, v))\n",
    "    \n",
    "# Plot\n",
    "plt.plot(X, Y, 'r.')\n",
    "plt.show()"
   ]
  },
  {
   "cell_type": "code",
   "execution_count": 39,
   "metadata": {},
   "outputs": [
    {
     "name": "stdout",
     "output_type": "stream",
     "text": [
      "Monte-Carlo = 40262.29781347717    Expected value = 40688.44785475098    Error = 426.1500412738096\n"
     ]
    },
    {
     "data": {
      "image/png": "[encoded data removed]",
      "text/plain": [
       "<Figure size 432x288 with 1 Axes>"
      ]
     },
     "metadata": {
      "needs_background": "light"
     },
     "output_type": "display_data"
    }
   ],
   "source": [
    "# Parameters\n",
    "N = 100000\n",
    "a = 0\n",
    "b = 3\n",
    "\n",
    "# Expected value\n",
    "I = (math.exp(4.0 * b) - math.exp(4.0 * a)) / 4.0\n",
    "\n",
    "s = 0.0\n",
    "for i in range(N):\n",
    "    # Generate Uniform distribution X\n",
    "    x = uniform(a, b)\n",
    "    s += math.exp(4.0 * x)\n",
    "\n",
    "# Empirical mean\n",
    "Im = (b - a) * s / float(N)\n",
    "print(\"Monte-Carlo = {}    Expected value = {}    Error = {}\".format(Im, I, abs(I - Im)))\n",
    "\n",
    "# Plot\n",
    "plt.plot(X, Y, 'r.')\n",
    "plt.show()"
   ]
  },
  {
   "cell_type": "code",
   "execution_count": 34,
   "metadata": {},
   "outputs": [
    {
     "name": "stdout",
     "output_type": "stream",
     "text": [
      "Monte-Carlo = 1453.8056650912201    Expected value = 1464.2    Error = 10.39433490877991\n"
     ]
    }
   ],
   "source": [
    "# Example 2 - g(x) - a = 1 - b = 3\n",
    "N = 100_000\n",
    "\n",
    "# Expected value\n",
    "I = 1464.2\n",
    "\n",
    "s = 0.0\n",
    "for i in range(N):\n",
    "    # Generate Uniform distribution X\n",
    "    x = uniform(1, 3)\n",
    "    s += math.exp(x**2)\n",
    "\n",
    "# Empirical mean\n",
    "Im = 2.0 * s / float(N)\n",
    "print(\"Monte-Carlo = {}    Expected value = {}    Error = {}\".format(Im, I, abs(I - Im)))\n",
    "\n",
    "# Plot\n",
    "#plt.plot(X, Y, 'r.')\n",
    "#plt.show()"
   ]
  },
  {
   "cell_type": "code",
   "execution_count": null,
   "metadata": {},
   "outputs": [],
   "source": []
  }
 ],
 "metadata": {
  "kernelspec": {
   "display_name": "Python 3",
   "language": "python",
   "name": "python3"
  },
  "language_info": {
   "codemirror_mode": {
    "name": "ipython",
    "version": 3
   },
   "file_extension": ".py",
   "mimetype": "text/x-python",
   "name": "python",
   "nbconvert_exporter": "python",
   "pygments_lexer": "ipython3",
   "version": "3.8.5"
  }
 },
 "nbformat": 4,
 "nbformat_minor": 4
}
