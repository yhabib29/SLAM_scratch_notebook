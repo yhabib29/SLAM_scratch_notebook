{
 "cells": [
  {
   "cell_type": "markdown",
   "metadata": {},
   "source": [
    "# SURF (Speeded-Up Robust Features) #\n",
    "\n",
    "Speeded-up version of SIFT.\n",
    "\n",
    "**+ 3x Faster than SIFT**\n",
    "\n",
    "**+ Good at handling blurring and rotation** \n",
    "\n",
    "**-  Bad at handling viewpoint change and illumination change**\n",
    "\n",
    "**- Non-free**\n",
    "\n",
    "Algortihm:\n",
    "![](img/surf_algo.png)\n",
    "\n",
    "Keypoint Detection:\n",
    "![](img/surf_feature_detection.png)\n",
    "![](img/surf_DoH.png)\n",
    "\n",
    "Keypoint Selection:\n",
    "![](img/surf_feature_selection.png)\n",
    "\n",
    "Descriptor orientation:\n",
    "![](img/surf_orientation.png)\n",
    "![](img/surf_orientation2.png)\n",
    "\n",
    "SURF Descriptor:\n",
    "![](img/surf_descriptor.png)\n",
    "\n",
    "\n"
   ]
  },
  {
   "cell_type": "code",
   "execution_count": 1,
   "metadata": {},
   "outputs": [
    {
     "ename": "error",
     "evalue": "OpenCV(4.4.0) /tmp/pip-req-build-a3np7pha/opencv_contrib/modules/xfeatures2d/src/surf.cpp:1027: error: (-213:The function/feature is not implemented) This algorithm is patented and is excluded in this configuration; Set OPENCV_ENABLE_NONFREE CMake option and rebuild the library in function 'create'\n",
     "output_type": "error",
     "traceback": [
      "\u001b[0;31m---------------------------------------------------------------------------\u001b[0m",
      "\u001b[0;31merror\u001b[0m                                     Traceback (most recent call last)",
      "\u001b[0;32m<ipython-input-1-5bc756fada77>\u001b[0m in \u001b[0;36m<module>\u001b[0;34m\u001b[0m\n\u001b[1;32m     16\u001b[0m \u001b[0;31m# Create SURF object. You can specify params here or later.\u001b[0m\u001b[0;34m\u001b[0m\u001b[0;34m\u001b[0m\u001b[0;34m\u001b[0m\u001b[0m\n\u001b[1;32m     17\u001b[0m \u001b[0;31m# Here I set Hessian Threshold to 400\u001b[0m\u001b[0;34m\u001b[0m\u001b[0;34m\u001b[0m\u001b[0;34m\u001b[0m\u001b[0m\n\u001b[0;32m---> 18\u001b[0;31m \u001b[0msurf\u001b[0m \u001b[0;34m=\u001b[0m \u001b[0mcv2\u001b[0m\u001b[0;34m.\u001b[0m\u001b[0mxfeatures2d\u001b[0m\u001b[0;34m.\u001b[0m\u001b[0mSURF_create\u001b[0m\u001b[0;34m(\u001b[0m\u001b[0mHessian_threshold\u001b[0m\u001b[0;34m)\u001b[0m\u001b[0;34m\u001b[0m\u001b[0;34m\u001b[0m\u001b[0m\n\u001b[0m\u001b[1;32m     19\u001b[0m \u001b[0;31m# Find keypoints and descriptors directly\u001b[0m\u001b[0;34m\u001b[0m\u001b[0;34m\u001b[0m\u001b[0;34m\u001b[0m\u001b[0m\n\u001b[1;32m     20\u001b[0m \u001b[0mkp\u001b[0m\u001b[0;34m,\u001b[0m \u001b[0mdes\u001b[0m \u001b[0;34m=\u001b[0m \u001b[0msurf\u001b[0m\u001b[0;34m.\u001b[0m\u001b[0mdetectAndCompute\u001b[0m\u001b[0;34m(\u001b[0m\u001b[0mimg\u001b[0m\u001b[0;34m,\u001b[0m \u001b[0;32mNone\u001b[0m\u001b[0;34m)\u001b[0m\u001b[0;34m\u001b[0m\u001b[0;34m\u001b[0m\u001b[0m\n",
      "\u001b[0;31merror\u001b[0m: OpenCV(4.4.0) /tmp/pip-req-build-a3np7pha/opencv_contrib/modules/xfeatures2d/src/surf.cpp:1027: error: (-213:The function/feature is not implemented) This algorithm is patented and is excluded in this configuration; Set OPENCV_ENABLE_NONFREE CMake option and rebuild the library in function 'create'\n"
     ]
    }
   ],
   "source": [
    "import cv2\n",
    "import numpy as np\n",
    "import matplotlib.pyplot as plt\n",
    "\n",
    "# image_file = \"lena.png\"\n",
    "image_file = \"checkerboard.png\"\n",
    "\n",
    "color_img = cv2.imread(image_file)\n",
    "img = cv2.cvtColor(color_img, cv2.COLOR_BGR2GRAY)\n",
    "color_img = cv2.cvtColor(color_img, cv2.COLOR_BGR2RGB)\n",
    "\n",
    "# Parameters\n",
    "Hessian_threshold = 400\n",
    "\n",
    "# Need non-free activated\n",
    "# Create SURF object. You can specify params here or later.\n",
    "# Here I set Hessian Threshold to 400\n",
    "surf = cv2.xfeatures2d.SURF_create(Hessian_threshold)\n",
    "# Find keypoints and descriptors directly\n",
    "kp, des = surf.detectAndCompute(img, None)\n",
    "\n",
    "color_img = cv2.drawKeypoints(color_img, kp, flags=cv2.DRAW_MATCHES_FLAGS_DRAW_RICH_KEYPOINTS)\n",
    "\n",
    "plt.imshow(color_img)\n",
    "print(len(corners), \"corners\")"
   ]
  },
  {
   "cell_type": "markdown",
   "metadata": {},
   "source": [
    "## References ##\n",
    "\n",
    "[1] \"Introduction to SURF (Speeded-Up Robust Features)\", https://opencv-python-tutroals.readthedocs.io/en/latest/py_tutorials/py_feature2d/py_surf_intro/py_surf_intro.html#surf\n",
    "\n",
    "[2] SURF - Speeded Up Robust Features, Herbert Bay, Tinne Tuytelaars, Luc Van Gool, ETH Zurich, https://people.ee.ethz.ch/~surf/eccv06.pdf\n",
    "\n",
    "[3] \"SURF - Speeded Up Robust Features\", https://youtu.be/0nyh4hwTrog\n",
    "\n",
    "[4] \"An Analysis of the SURF Method\", Edouard Oyallon, Julien Rabin, IPOL, https://www.ipol.im/pub/art/2015/69/article_lr.pdf"
   ]
  }
 ],
 "metadata": {
  "kernelspec": {
   "display_name": "Python 3",
   "language": "python",
   "name": "python3"
  },
  "language_info": {
   "codemirror_mode": {
    "name": "ipython",
    "version": 3
   },
   "file_extension": ".py",
   "mimetype": "text/x-python",
   "name": "python",
   "nbconvert_exporter": "python",
   "pygments_lexer": "ipython3",
   "version": "3.8.5"
  }
 },
 "nbformat": 4,
 "nbformat_minor": 4
}
