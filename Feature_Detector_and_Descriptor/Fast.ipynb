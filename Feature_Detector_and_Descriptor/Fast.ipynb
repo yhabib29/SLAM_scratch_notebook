{
 "cells": [
  {
   "cell_type": "markdown",
   "metadata": {},
   "source": [
    "# FAST (Features from Accelerated Segment Test)\n",
    "\n",
    "Corner Detector\n",
    "\n",
    "**+ Fast**\n",
    "\n",
    "**+ Free**\n",
    "\n",
    "**- Depends on a threshold**\n",
    "\n",
    "\n",
    "__1. Feature detection:__\n",
    "\n",
    "For each pixel $p$ with intensity $I_p$, consider a circle of **16** pixels around the interest point.\n",
    "![](img/fast_speedtest.jpg)\n",
    "\n",
    "The pixel $p$ is a corner if there exists a set of $n$ contiguous pixels in the circle which are all brighter than $I_p + t$, or all darker than $I_p − t$. (Shown as white dash lines in the above image). $n$ was chosen to be 12\n",
    "\n",
    "A high speed test was proposed, it examines only the four pixels at 1, 9, 5 and 13 (First 1 and 9 are tested if they are too brighter or darker. If so, then checks 5 and 13). If $p$ is a corner, then at least three of these must all be brighter than $I_p + t$ or darker than $I_p − t$. If neither of these is the case, then $p$ cannot be a corner.If it is, the full test is processed to ensure the interest point is a corner.\n",
    "This detector in itself exhibits high performance, but there are several weaknesses:\n",
    "- It does not reject as many candidates for $n < 12$.\n",
    "- The choice of pixels is not optimal because its efficiency depends on ordering of the questions and distribution of corner appearances.\n",
    "- Results of high-speed tests are thrown away.\n",
    "- Multiple features are detected adjacent to one another\n",
    "\n",
    "\n",
    "__2. Machine Learning a Corner Detector__\n",
    "\n",
    "An improved test was proposed using ML techniques:\n",
    "\n",
    "Select a set of images for training (preferably from the target application domain).\n",
    "\n",
    "Run FAST algorithm in every images to find feature points.\n",
    "\n",
    "For every feature point, store the 16 pixels around it as a vector. Do it for all the images to get feature vector $P$.\n",
    "\n",
    "Each pixel (say $x$) in these 16 pixels can have one of the following three states:\n",
    "![](img/fast_equation.jpg)\n",
    "\n",
    "Depending on these states, the feature vector $P$ is subdivided into 3 subsets, $P_d$, $P_s$, $P_b$.\n",
    "\n",
    "Define a new boolean variable, $K_p$, which is true if $p$ is a corner and false otherwise.\n",
    "\n",
    "Use the ID3 algorithm (decision tree classifier) to query each subset using the variable $K_p$ for the knowledge about the true class. It selects the $x$ which yields the most information about whether the candidate pixel is a corner, measured by the entropy of $K_p$.\n",
    "\n",
    "This is recursively applied to all the subsets until its entropy is zero.\n",
    "\n",
    "The decision tree so created is used for fast detection in other images.\n",
    "\n",
    "__3. Non-maximal Suppression__\n",
    "\n",
    "Detecting multiple interest points in adjacent locations is another problem. It is solved by using Non-maximum Suppression.\n",
    "\n",
    "Compute a score function, $V$ for all the detected feature points. $V$ is the sum of absolute difference between $p$ and 16 surrounding pixels values.\n",
    "Consider two adjacent keypoints and compute their $V$ values.\n",
    "Discard the one with lower $V$ value.\n",
    "\n"
   ]
  },
  {
   "cell_type": "code",
   "execution_count": null,
   "metadata": {},
   "outputs": [],
   "source": [
    "# TODO: Implement algorithm\n"
   ]
  },
  {
   "cell_type": "markdown",
   "metadata": {},
   "source": [
    "# References\n",
    "\n",
    "[1] https://opencv-python-tutroals.readthedocs.io/en/latest/py_tutorials/py_feature2d/py_fast/py_fast.html#fast"
   ]
  }
 ],
 "metadata": {
  "kernelspec": {
   "display_name": "Python 3",
   "language": "python",
   "name": "python3"
  },
  "language_info": {
   "codemirror_mode": {
    "name": "ipython",
    "version": 3
   },
   "file_extension": ".py",
   "mimetype": "text/x-python",
   "name": "python",
   "nbconvert_exporter": "python",
   "pygments_lexer": "ipython3",
   "version": "3.8.5"
  }
 },
 "nbformat": 4,
 "nbformat_minor": 4
}
